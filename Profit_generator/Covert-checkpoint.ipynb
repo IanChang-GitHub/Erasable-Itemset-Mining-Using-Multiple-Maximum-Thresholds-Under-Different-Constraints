{
 "cells": [
  {
   "cell_type": "code",
   "execution_count": 27,
   "metadata": {},
   "outputs": [],
   "source": [
    "# Convert Generator file to temporal dataset "
   ]
  },
  {
   "cell_type": "code",
   "execution_count": 2,
   "metadata": {},
   "outputs": [],
   "source": [
    "import numpy as np\n",
    "import math"
   ]
  },
  {
   "cell_type": "code",
   "execution_count": 3,
   "metadata": {},
   "outputs": [],
   "source": [
    "# normal distribution for integer\n",
    "from scipy.stats import truncnorm\n",
    "import matplotlib.pyplot as plt"
   ]
  },
  {
   "cell_type": "code",
   "execution_count": null,
   "metadata": {},
   "outputs": [],
   "source": []
  },
  {
   "cell_type": "code",
   "execution_count": 10,
   "metadata": {},
   "outputs": [],
   "source": [
    "with open('T10I0.03D100K.txt', 'r') as f:\n",
    "    lines = f.read().splitlines()"
   ]
  },
  {
   "cell_type": "code",
   "execution_count": 18,
   "metadata": {},
   "outputs": [
    {
     "name": "stdout",
     "output_type": "stream",
     "text": [
      "Datasize: 98169\n",
      "Number of items: 30\n",
      "First row of data:\n",
      " ['3', '11', '12', '14', '15', '17', '18', '19', '21', '23', '26']\n"
     ]
    }
   ],
   "source": [
    "# IBM data reading\n",
    "item_numbers = {}\n",
    "data = []\n",
    "flag = 0\n",
    "for line in lines:\n",
    "    temp = []\n",
    "    element_list = line.split(\", \")\n",
    "    #print(\"element_list:\",element_list)\n",
    "\n",
    "    for element in element_list:\n",
    "        if element not in item_numbers:\n",
    "            item_numbers[element] = 1\n",
    "        temp.append(element)\n",
    "    data.append(temp)\n",
    "                \n",
    "print(\"Datasize:\",len(data))\n",
    "print(\"Number of items:\", len(item_numbers))\n",
    "#print(\"items:\", item_numbers)\n",
    "print(\"First row of data:\\n\", data[0])\n",
    "#print(data)"
   ]
  },
  {
   "cell_type": "code",
   "execution_count": 19,
   "metadata": {},
   "outputs": [
    {
     "name": "stdout",
     "output_type": "stream",
     "text": [
      "average items per trans: 9.25727062514643\n"
     ]
    }
   ],
   "source": [
    "# 用來檢查 -tlen\n",
    "summer = 0\n",
    "for row in data:\n",
    "    summer += len(row)\n",
    "\n",
    "print(\"average items per trans:\", summer/len(data))"
   ]
  },
  {
   "cell_type": "code",
   "execution_count": 20,
   "metadata": {},
   "outputs": [
    {
     "name": "stdout",
     "output_type": "stream",
     "text": [
      "First row of data:\n",
      " ['3', '11', '12', '14', '15', '17', '18', '19', '21', '23', '26']\n"
     ]
    }
   ],
   "source": [
    "# 用來確認兩次的調參有沒有確實改變到資料集的產生，很容易其實沒有調到\n",
    "print(\"First row of data:\\n\", data[0])"
   ]
  },
  {
   "cell_type": "code",
   "execution_count": 36,
   "metadata": {
    "scrolled": false
   },
   "outputs": [
    {
     "name": "stdout",
     "output_type": "stream",
     "text": [
      "2006_0, 5, 6, 8, 20, 28, 29\n",
      "\n"
     ]
    },
    {
     "data": {
      "text/plain": [
       "'#print(\"tid: \", min(tid_pool),\"-\",max(tid_pool))\\n\\nfre = {}\\nfor i in tid_pool:\\n    if i not in fre:\\n        fre[i] = 1\\n    else:\\n        fre[i] += 1\\nprint(fre)\\n\\n\\n# Print the tid distribution\\nplt.title(\"tid distribution\")\\nplt.hist(tid_pool,  color = \\'lightblue\\')\\nplt.xlim(min(tid_pool), max(tid_pool))'"
      ]
     },
     "execution_count": 36,
     "metadata": {},
     "output_type": "execute_result"
    }
   ],
   "source": [
    "w = open('I0.05D4T15.txt', 'w+') \n",
    "\n",
    "# IBM generation\n",
    "\n",
    "\n",
    "dataset = []\n",
    "total_trans = len(data)\n",
    "\n",
    "auto_pid = 0\n",
    "\n",
    "# Tid insertion - Normal distribution\n",
    "\"\"\"\n",
    "tid_pool = []\n",
    "for i in range(total_trans):\n",
    "    tid = np.random.normal(0, 0.02) + 1\n",
    "    tid = int(tid*20)\n",
    "    tid_pool.append(tid)\n",
    "    \n",
    "\n",
    "# After normal distribution's tid not start from 1, so we need shifting\n",
    "shift = min(tid_pool)\n",
    "for i in range(0, len(tid_pool)):\n",
    "    tid_pool[i] = tid_pool[i] - shift + 1\n",
    "\"\"\"\n",
    "\n",
    "# for graphing item' gain distribution\n",
    "item_box = {}\n",
    "profit_dis = []\n",
    "total_gain = 0\n",
    "\n",
    "for row in data:\n",
    "    \n",
    "    # Using set to filter repeat items in one transaction\n",
    "    #row = list(set(row))\n",
    "    \n",
    "    # Profit insertion - Log normal distribution\n",
    "    profit = int(np.random.lognormal(mean=7, sigma=0.5, size=None)) + 5 \n",
    "    profit_dis.append(profit)\n",
    "    total_gain += profit\n",
    "    \n",
    "    trans_str = \"\"\n",
    "    for item in row:\n",
    "        trans_str = trans_str + str(item) + \", \"\n",
    "        \n",
    "        if int(item) not in item_box:\n",
    "            item_box[int(item)] = profit\n",
    "        else:\n",
    "            item_box[int(item)] += profit\n",
    "    \n",
    "    \n",
    "    # TID_PID_ITEMS_PROFIT\n",
    "    trans_str = trans_str.rstrip(\", \") \n",
    "    trans_str = str(profit) + \"_\" + trans_str\n",
    "    #trans_str = trans_str.split(\" \")\n",
    "    \n",
    "    # pid auto\n",
    "    auto_pid = auto_pid + 1\n",
    "    \n",
    "    dataset.append(trans_str)\n",
    "\n",
    "# Sort transaction by Tid in ascending order - then it will be normal distribute\n",
    "#dataset = sorted(dataset, key=lambda dataset: dataset[0], reverse=False)\n",
    "\n",
    "# Final - write the dataset in to the .txt file\n",
    "for row in dataset:\n",
    "    trans_str = \"\"\n",
    "    #for i in range(0, len(row)):\n",
    "        #trans_str = trans_str + row[i] + \" \"\n",
    "    trans_str = trans_str + row + \"\\n\"\n",
    "    w.write(trans_str)\n",
    "\n",
    "# Just in case, check the program really work.\n",
    "print(trans_str)\n",
    "f.close()\n",
    "w.close()\n",
    "\n",
    "'''#print(\"tid: \", min(tid_pool),\"-\",max(tid_pool))\n",
    "\n",
    "fre = {}\n",
    "for i in tid_pool:\n",
    "    if i not in fre:\n",
    "        fre[i] = 1\n",
    "    else:\n",
    "        fre[i] += 1\n",
    "print(fre)\n",
    "\n",
    "\n",
    "# Print the tid distribution\n",
    "plt.title(\"tid distribution\")\n",
    "plt.hist(tid_pool,  color = 'lightblue')\n",
    "plt.xlim(min(tid_pool), max(tid_pool))'''\n"
   ]
  },
  {
   "cell_type": "code",
   "execution_count": 37,
   "metadata": {},
   "outputs": [
    {
     "data": {
      "text/plain": [
       "(1892139.0, 76966953.0)"
      ]
     },
     "execution_count": 37,
     "metadata": {},
     "output_type": "execute_result"
    },
    {
     "data": {
      "image/png": "[encoded data removed]",
      "text/plain": [
       "<Figure size 432x288 with 1 Axes>"
      ]
     },
     "metadata": {
      "needs_background": "light"
     },
     "output_type": "display_data"
    }
   ],
   "source": [
    "# 用來觀察每個 items 的 gain 分布 ((可以用來判斷參數設定優劣\n",
    "\n",
    "item_box = dict(sorted(item_box.items(), key=lambda item:item[0]))\n",
    "item_box_2 = []\n",
    "\n",
    "for item, gain in item_box.items():\n",
    "    item_box_2.append(gain)\n",
    "\n",
    "\n",
    "\n",
    "# Print the tid distribution\n",
    "plt.title(\"Gain distribution\")\n",
    "plt.hist(item_box_2,  color = 'lightblue')\n",
    "plt.xlim(min(item_box_2), max(item_box_2))"
   ]
  },
  {
   "cell_type": "code",
   "execution_count": 38,
   "metadata": {},
   "outputs": [
    {
     "data": {
      "text/plain": [
       "(100.0, 9851.0)"
      ]
     },
     "execution_count": 38,
     "metadata": {},
     "output_type": "execute_result"
    },
    {
     "data": {
      "image/png": "[encoded data removed]",
      "text/plain": [
       "<Figure size 432x288 with 1 Axes>"
      ]
     },
     "metadata": {
      "needs_background": "light"
     },
     "output_type": "display_data"
    }
   ],
   "source": [
    "# Print the profit distribution\n",
    "plt.title(\"profit distribution\")\n",
    "plt.hist(profit_dis,  color = 'lightblue')\n",
    "plt.xlim(min(profit_dis), max(profit_dis))"
   ]
  },
  {
   "cell_type": "markdown",
   "metadata": {},
   "source": []
  },
  {
   "cell_type": "code",
   "execution_count": null,
   "metadata": {},
   "outputs": [],
   "source": [
    "tygyyu"
   ]
  },
  {
   "cell_type": "code",
   "execution_count": null,
   "metadata": {},
   "outputs": [],
   "source": []
  },
  {
   "cell_type": "code",
   "execution_count": 6,
   "metadata": {},
   "outputs": [],
   "source": [
    "r = open('threshold.txt', 'r') \n",
    "w = open('ianchang-7.txt', 'w+')\n",
    "lines = r.read().splitlines()\n",
    "add = 0.3\n",
    "element_list = []\n",
    "\n",
    "for line in lines:\n",
    "    temp = []\n",
    "    temp = line.split(\"_\")\n",
    "    temp[1] = round(float(temp[1]) + add,10)\n",
    "    element_list.append(temp)\n",
    "\n",
    "for element in element_list:\n",
    "    threshold_str = \"\"\n",
    "    threshold = element[1]\n",
    "    threshold_str = threshold_str + element[0] + \"_\" + repr(threshold) + \"\\n\"\n",
    "    w.write(threshold_str)\n",
    "         \n",
    "\n",
    "'''item_num = input(\"Please enter number of items:\")\n",
    "item_num = int(item_num)\n",
    "threshold_dis = []\n",
    "\n",
    "for item in range(item_num):\n",
    "    threshold_str = \"\"\n",
    "    threshold = float(np.random.random()/2)\n",
    "    #threshold = float(np.random.lognormal(mean=0.001, sigma=0.35, size=None))\n",
    "    threshold = round(threshold, 2)\n",
    "    threshold_dis.append(threshold)\n",
    "    threshold_str = threshold_str + str(item) + \"_\" + str(threshold) + \"\\n\"\n",
    "    print(threshold_str,end='')\n",
    "    w.write(threshold_str)\n",
    "    \n",
    "\n",
    "# Print the threshold distribution\n",
    "plt.title(\"threshold distribution\")\n",
    "plt.hist(threshold_dis,  color = 'lightblue')\n",
    "plt.xlim(min(threshold_dis), max(threshold_dis))'''\n",
    "\n",
    "r.close()\n",
    "w.close()"
   ]
  },
  {
   "cell_type": "code",
   "execution_count": null,
   "metadata": {},
   "outputs": [],
   "source": []
  },
  {
   "cell_type": "code",
   "execution_count": null,
   "metadata": {},
   "outputs": [],
   "source": []
  },
  {
   "cell_type": "code",
   "execution_count": null,
   "metadata": {},
   "outputs": [],
   "source": []
  },
  {
   "cell_type": "code",
   "execution_count": 13,
   "metadata": {},
   "outputs": [
    {
     "name": "stdout",
     "output_type": "stream",
     "text": [
      "3 59439 18863 153 \n",
      "\n",
      "tid:  1 - 3\n",
      "{2: 58859, 3: 379, 1: 363}\n"
     ]
    },
    {
     "data": {
      "text/plain": [
       "(1, 3)"
      ]
     },
     "execution_count": 13,
     "metadata": {},
     "output_type": "execute_result"
    },
    {
     "data": {
      "image/png": "[encoded data removed]",
      "text/plain": [
       "<Figure size 432x288 with 1 Axes>"
      ]
     },
     "metadata": {},
     "output_type": "display_data"
    }
   ],
   "source": [
    "# webview transform\n",
    "with open('webview1.txt', 'r') as f:\n",
    "    lines = f.read().splitlines()\n",
    "w = open('D:/graduate/temporal/webview1.txt', 'w+') \n",
    "\n",
    "dataset = []\n",
    "data = []\n",
    "total_trans = len(lines)\n",
    "\n",
    "\n",
    "# Tid insertion - Normal distribution\n",
    "tid_pool = []\n",
    "for i in range(total_trans):\n",
    "    tid = np.random.normal(0, 0.02) + 1\n",
    "    tid = int(tid*20)\n",
    "    if(tid > 3):\n",
    "        tid = tid - 1\n",
    "    tid_pool.append(tid)\n",
    "    \n",
    "# After normal distribution's tid not start from 1, so we need shifting\n",
    "shift = min(tid_pool)\n",
    "for i in range(0, len(tid_pool)):\n",
    "    tid_pool[i] = tid_pool[i] - shift + 1\n",
    "\n",
    "for i in range(0, len(tid_pool)):\n",
    "    if(tid_pool[i]>2):\n",
    "        tid_pool[i] = tid_pool[i] - 1\n",
    "    \n",
    "    \n",
    "auto_pid = 0\n",
    "for row in lines:\n",
    "    \n",
    "    row = row.split(\" \")\n",
    "    trans_str = \"\"\n",
    "    for item in row:\n",
    "        if(item == \"-1\" or item == \"-2\"):\n",
    "            continue\n",
    "        trans_str = trans_str + item + \" \"\n",
    "        \n",
    "    # Profit insertion - Log normal distribution\n",
    "    profit = int(np.random.lognormal(mean=5, sigma=0.025, size=None)) + 5 \n",
    "    \n",
    "    # TID_PID_ITEMS_PROFIT\n",
    "    trans_str = str(tid_pool[auto_pid]) + \" \" + str(auto_pid) + \" \" + trans_str + str(profit)\n",
    "    trans_str = trans_str.split(\" \")\n",
    "\n",
    "    # pid auto\n",
    "    auto_pid = auto_pid + 1\n",
    "    \n",
    "    dataset.append(trans_str)\n",
    "    \n",
    "dataset = sorted(dataset, key=lambda dataset: dataset[0], reverse=False)\n",
    "\n",
    "\n",
    "# Final - write the dataset in to the .txt file\n",
    "for row in dataset:\n",
    "    trans_str = \"\"\n",
    "    for i in range(0, len(row)):\n",
    "        trans_str = trans_str + row[i] + \" \"\n",
    "    trans_str = trans_str + \"\\n\"\n",
    "    w.write(trans_str)\n",
    "\n",
    "# Just in case, check the program really work.\n",
    "print(trans_str)\n",
    "f.close()\n",
    "w.close()\n",
    "\n",
    "\n",
    "print(\"tid: \", min(tid_pool),\"-\",max(tid_pool))\n",
    "\n",
    "fre = {}\n",
    "for i in tid_pool:\n",
    "    if i not in fre:\n",
    "        fre[i] = 1\n",
    "    else:\n",
    "        fre[i] += 1\n",
    "print(fre)\n",
    "\n",
    "# Print the tid distribution\n",
    "plt.title(\"tid distribution\")\n",
    "plt.hist(tid_pool,  color = 'lightblue')\n",
    "plt.xlim(min(tid_pool), max(tid_pool))"
   ]
  },
  {
   "cell_type": "code",
   "execution_count": null,
   "metadata": {},
   "outputs": [],
   "source": [
    "plt.title(\"Profit range\")\n",
    "plt.hist(data, density=False, color = 'lightblue', cumulative = False)\n",
    "plt.xlim(min(data), max(data))"
   ]
  },
  {
   "cell_type": "code",
   "execution_count": null,
   "metadata": {},
   "outputs": [],
   "source": [
    "data = []\n",
    "for i in range(50000):\n",
    "    profit = int(np.random.lognormal(mean=5, sigma=0.0025, size=None))\n",
    "    data.append(profit)\n",
    "    \n",
    "plt.title(\"Profit range\")\n",
    "plt.hist(data, density=False, color = 'lightblue', cumulative = False)\n",
    "plt.xlim(min(data), max(data))"
   ]
  },
  {
   "cell_type": "code",
   "execution_count": null,
   "metadata": {},
   "outputs": [],
   "source": []
  },
  {
   "cell_type": "code",
   "execution_count": null,
   "metadata": {},
   "outputs": [],
   "source": []
  },
  {
   "cell_type": "code",
   "execution_count": null,
   "metadata": {},
   "outputs": [],
   "source": []
  },
  {
   "cell_type": "code",
   "execution_count": null,
   "metadata": {},
   "outputs": [],
   "source": []
  },
  {
   "cell_type": "code",
   "execution_count": null,
   "metadata": {},
   "outputs": [],
   "source": []
  },
  {
   "cell_type": "code",
   "execution_count": 17,
   "metadata": {},
   "outputs": [],
   "source": [
    "with open('chess.dat', 'r') as f:\n",
    "    lines = f.read().splitlines()\n",
    "w = open('D:/graduate/temporal/chess.txt', 'w+') "
   ]
  },
  {
   "cell_type": "code",
   "execution_count": 18,
   "metadata": {},
   "outputs": [
    {
     "name": "stdout",
     "output_type": "stream",
     "text": [
      "4 3070 2 3 5 7 10 12 14 15 17 19 21 23 25 27 29 31 35 36 39 40 42 44 46 48 51 52 54 57 58 60 62 64 66 69 71 72 75 151 \n",
      "\n",
      "tid:  1 - 4\n",
      "{3: 1560, 2: 1600, 4: 17, 1: 19}\n"
     ]
    },
    {
     "data": {
      "text/plain": [
       "(1, 4)"
      ]
     },
     "execution_count": 18,
     "metadata": {},
     "output_type": "execute_result"
    },
    {
     "data": {
      "image/png": "[encoded data removed]",
      "text/plain": [
       "<Figure size 432x288 with 1 Axes>"
      ]
     },
     "metadata": {},
     "output_type": "display_data"
    }
   ],
   "source": [
    "# chess transformation\n",
    "dataset = []\n",
    "total_trans = len(lines)\n",
    "\n",
    "# Tid insertion - Normal distribution\n",
    "tid_pool = []\n",
    "for i in range(total_trans):\n",
    "    tid = np.random.normal(0, 0.02) + 1\n",
    "    tid = int(tid*20)\n",
    "    tid_pool.append(tid)\n",
    "    \n",
    "# After normal distribution's tid not start from 1, so we need shifting\n",
    "shift = min(tid_pool)\n",
    "for i in range(0, len(tid_pool)):\n",
    "    tid_pool[i] = tid_pool[i] - shift + 1\n",
    "\n",
    "\n",
    "auto_pid = 0\n",
    "for row in lines:\n",
    "    \n",
    "    trans_str = \"\"\n",
    "    for item in row:\n",
    "        trans_str += item\n",
    "        \n",
    "    # Profit insertion - Log normal distribution\n",
    "    profit = int(np.random.lognormal(mean=5, sigma=0.025, size=None)) + 5 \n",
    "    \n",
    "    # TID_PID_ITEMS_PROFIT\n",
    "    trans_str = str(tid_pool[auto_pid]) + \" \" + str(auto_pid) + \" \" + trans_str + str(profit)\n",
    "    trans_str = trans_str.split(\" \")\n",
    "    \n",
    "    \n",
    "    # pid auto\n",
    "    auto_pid = auto_pid + 1\n",
    "    \n",
    "    dataset.append(trans_str)\n",
    "\n",
    "# Sort transaction by Tid in ascending order - then it will be normal distribute\n",
    "dataset = sorted(dataset, key=lambda dataset: dataset[0], reverse=False)\n",
    "\n",
    "# Final - write the dataset in to the .txt file\n",
    "for row in dataset:\n",
    "    trans_str = \"\"\n",
    "    for i in range(0, len(row)):\n",
    "        trans_str = trans_str + row[i] + \" \"\n",
    "    trans_str = trans_str + \"\\n\"\n",
    "    w.write(trans_str)\n",
    "\n",
    "# Just in case, check the program really work.\n",
    "print(trans_str)\n",
    "f.close()\n",
    "w.close()\n",
    "\n",
    "\n",
    "print(\"tid: \", min(tid_pool),\"-\",max(tid_pool))\n",
    "\n",
    "fre = {}\n",
    "for i in tid_pool:\n",
    "    if i not in fre:\n",
    "        fre[i] = 1\n",
    "    else:\n",
    "        fre[i] += 1\n",
    "print(fre)\n",
    "\n",
    "# Print the tid distribution\n",
    "plt.title(\"tid distribution\")\n",
    "plt.hist(tid_pool,  color = 'lightblue')\n",
    "plt.xlim(min(tid_pool), max(tid_pool))"
   ]
  },
  {
   "cell_type": "code",
   "execution_count": null,
   "metadata": {},
   "outputs": [],
   "source": []
  },
  {
   "cell_type": "code",
   "execution_count": 19,
   "metadata": {},
   "outputs": [],
   "source": [
    "with open('mushroom.dat', 'r') as f:\n",
    "    lines = f.read().splitlines()\n",
    "w = open('D:/graduate/temporal/mushroom.txt', 'w+') "
   ]
  },
  {
   "cell_type": "code",
   "execution_count": 22,
   "metadata": {},
   "outputs": [
    {
     "name": "stdout",
     "output_type": "stream",
     "text": [
      "4 8008 1 7 9 17 24 29 34 36 38 48 53 58 61 66 69 76 85 86 90 94 102 110 117 158 \n",
      "\n",
      "tid:  1 - 4\n",
      "{3: 4029, 2: 3996, 1: 44, 4: 55}\n"
     ]
    },
    {
     "data": {
      "text/plain": [
       "(1, 4)"
      ]
     },
     "execution_count": 22,
     "metadata": {},
     "output_type": "execute_result"
    },
    {
     "data": {
      "image/png": "[encoded data removed]",
      "text/plain": [
       "<Figure size 432x288 with 1 Axes>"
      ]
     },
     "metadata": {},
     "output_type": "display_data"
    }
   ],
   "source": [
    "# chess transformation\n",
    "dataset = []\n",
    "total_trans = len(lines)\n",
    "\n",
    "# Tid insertion - Normal distribution\n",
    "tid_pool = []\n",
    "for i in range(total_trans):\n",
    "    tid = np.random.normal(0, 0.02) + 1\n",
    "    tid = int(tid*20)\n",
    "    tid_pool.append(tid)\n",
    "    \n",
    "# After normal distribution's tid not start from 1, so we need shifting\n",
    "shift = min(tid_pool)\n",
    "for i in range(0, len(tid_pool)):\n",
    "    tid_pool[i] = tid_pool[i] - shift + 1\n",
    "\n",
    "\n",
    "auto_pid = 0\n",
    "for row in lines:\n",
    "    \n",
    "    trans_str = \"\"\n",
    "    for item in row:\n",
    "        trans_str += item\n",
    "        \n",
    "    # Profit insertion - Log normal distribution\n",
    "    profit = int(np.random.lognormal(mean=5, sigma=0.025, size=None)) + 5 \n",
    "    \n",
    "    # TID_PID_ITEMS_PROFIT\n",
    "    trans_str = str(tid_pool[auto_pid]) + \" \" + str(auto_pid) + \" \" + trans_str + str(profit)\n",
    "    trans_str = trans_str.split(\" \")\n",
    "    \n",
    "    \n",
    "    # pid auto\n",
    "    auto_pid = auto_pid + 1\n",
    "    \n",
    "    dataset.append(trans_str)\n",
    "\n",
    "# Sort transaction by Tid in ascending order - then it will be normal distribute\n",
    "dataset = sorted(dataset, key=lambda dataset: dataset[0], reverse=False)\n",
    "\n",
    "# Final - write the dataset in to the .txt file\n",
    "for row in dataset:\n",
    "    trans_str = \"\"\n",
    "    for i in range(0, len(row)):\n",
    "        trans_str = trans_str + row[i] + \" \"\n",
    "    trans_str = trans_str + \"\\n\"\n",
    "    w.write(trans_str)\n",
    "\n",
    "# Just in case, check the program really work.\n",
    "print(trans_str)\n",
    "f.close()\n",
    "w.close()\n",
    "\n",
    "\n",
    "print(\"tid: \", min(tid_pool),\"-\",max(tid_pool))\n",
    "\n",
    "fre = {}\n",
    "for i in tid_pool:\n",
    "    if i not in fre:\n",
    "        fre[i] = 1\n",
    "    else:\n",
    "        fre[i] += 1\n",
    "print(fre)\n",
    "\n",
    "# Print the tid distribution\n",
    "plt.title(\"tid distribution\")\n",
    "plt.hist(tid_pool,  color = 'lightblue')\n",
    "plt.xlim(min(tid_pool), max(tid_pool))"
   ]
  },
  {
   "cell_type": "code",
   "execution_count": null,
   "metadata": {},
   "outputs": [],
   "source": []
  },
  {
   "cell_type": "code",
   "execution_count": 9,
   "metadata": {
    "scrolled": true
   },
   "outputs": [
    {
     "name": "stdout",
     "output_type": "stream",
     "text": [
      "Please enter number of items:30\n",
      "0_0.16\n",
      "1_0.39\n",
      "2_0.389\n",
      "3_0.154\n",
      "4_0.146\n",
      "5_0.269\n",
      "6_0.322\n",
      "7_0.158\n",
      "8_0.111\n",
      "9_0.274\n",
      "10_0.205\n",
      "11_0.376\n",
      "12_0.169\n",
      "13_0.329\n",
      "14_0.344\n",
      "15_0.201\n",
      "16_0.358\n",
      "17_0.295\n",
      "18_0.385\n",
      "19_0.118\n",
      "20_0.223\n",
      "21_0.31\n",
      "22_0.37\n",
      "23_0.216\n",
      "24_0.333\n",
      "25_0.227\n",
      "26_0.289\n",
      "27_0.287\n",
      "28_0.285\n",
      "29_0.194\n"
     ]
    },
    {
     "data": {
      "image/png": "[encoded data removed]",
      "text/plain": [
       "<Figure size 432x288 with 1 Axes>"
      ]
     },
     "metadata": {
      "needs_background": "light"
     },
     "output_type": "display_data"
    }
   ],
   "source": [
    "w = open('test_threshold.txt', 'w+') \n",
    "\n",
    "\n",
    "item_num = input(\"Please enter number of items:\")\n",
    "item_num = int(item_num)\n",
    "threshold_dis = []\n",
    "\n",
    "for item in range(item_num):\n",
    "    threshold_str = \"\"\n",
    "    #threshold = float(np.random.random()/2)\n",
    "    #threshold = float(np.random.lognormal(mean=0.001, sigma=0.35, size=None))\n",
    "    threshold = np.random.uniform(0.1,0.4)\n",
    "    threshold = round(threshold, 3)\n",
    "    threshold_dis.append(threshold)\n",
    "    threshold_str = threshold_str + str(item) + \"_\" + str(threshold) + \"\\n\"\n",
    "    print(threshold_str,end='')\n",
    "    w.write(threshold_str)\n",
    "    \n",
    "\n",
    "# Print the threshold distribution\n",
    "plt.title(\"threshold distribution\")\n",
    "plt.hist(threshold_dis,  color = 'lightblue')\n",
    "plt.xlim(min(threshold_dis), max(threshold_dis))\n",
    "\n",
    "w.close()\n"
   ]
  },
  {
   "cell_type": "code",
   "execution_count": 58,
   "metadata": {},
   "outputs": [
    {
     "name": "stdout",
     "output_type": "stream",
     "text": [
      "325_10 17 8 7 18 11 \n",
      "\n"
     ]
    },
    {
     "data": {
      "text/plain": [
       "'#print(\"tid: \", min(tid_pool),\"-\",max(tid_pool))\\n\\nfre = {}\\nfor i in tid_pool:\\n    if i not in fre:\\n        fre[i] = 1\\n    else:\\n        fre[i] += 1\\nprint(fre)\\n\\n\\n# Print the tid distribution\\nplt.title(\"tid distribution\")\\nplt.hist(tid_pool,  color = \\'lightblue\\')\\nplt.xlim(min(tid_pool), max(tid_pool))'"
      ]
     },
     "execution_count": 58,
     "metadata": {},
     "output_type": "execute_result"
    }
   ],
   "source": [
    "w = open('I0.05D4T15.txt', 'w+') \n",
    "\n",
    "# IBM generation\n",
    "\n",
    "\n",
    "dataset = []\n",
    "total_trans = len(data)\n",
    "\n",
    "auto_pid = 0\n",
    "\n",
    "# Tid insertion - Normal distribution\n",
    "\"\"\"\n",
    "tid_pool = []\n",
    "for i in range(total_trans):\n",
    "    tid = np.random.normal(0, 0.02) + 1\n",
    "    tid = int(tid*20)\n",
    "    tid_pool.append(tid)\n",
    "    \n",
    "\n",
    "# After normal distribution's tid not start from 1, so we need shifting\n",
    "shift = min(tid_pool)\n",
    "for i in range(0, len(tid_pool)):\n",
    "    tid_pool[i] = tid_pool[i] - shift + 1\n",
    "\"\"\"\n",
    "\n",
    "# for graphing item' gain distribution\n",
    "item_box = {}\n",
    "profit_dis = []\n",
    "total_gain = 0\n",
    "\n",
    "for row in data:\n",
    "    \n",
    "    # Using set to filter repeat items in one transaction\n",
    "    row = list(set(row))\n",
    "    \n",
    "    # Profit insertion - Log normal distribution\n",
    "    profit = int(np.random.lognormal(mean=5, sigma=0.5, size=None)) + 5 \n",
    "    profit_dis.append(profit)\n",
    "    total_gain += profit\n",
    "    \n",
    "    trans_str = \"\"\n",
    "    for item in row:\n",
    "        trans_str = trans_str + str(item) + \" \"\n",
    "        \n",
    "        if int(item) not in item_box:\n",
    "            item_box[int(item)] = profit\n",
    "        else:\n",
    "            item_box[int(item)] += profit\n",
    "    \n",
    "    \n",
    "    # TID_PID_ITEMS_PROFIT\n",
    "    trans_str = str(profit) + \"_\" + trans_str\n",
    "    #trans_str = trans_str.split(\" \")\n",
    "    \n",
    "    # pid auto\n",
    "    auto_pid = auto_pid + 1\n",
    "    \n",
    "    dataset.append(trans_str)\n",
    "\n",
    "# Sort transaction by Tid in ascending order - then it will be normal distribute\n",
    "#dataset = sorted(dataset, key=lambda dataset: dataset[0], reverse=False)\n",
    "\n",
    "# Final - write the dataset in to the .txt file\n",
    "for row in dataset:\n",
    "    trans_str = \"\"\n",
    "    #for i in range(0, len(row)):\n",
    "        #trans_str = trans_str + row[i] + \" \"\n",
    "    trans_str = trans_str + row + \"\\n\"\n",
    "    w.write(trans_str)\n",
    "\n",
    "# Just in case, check the program really work.\n",
    "print(trans_str)\n",
    "f.close()\n",
    "w.close()\n",
    "\n",
    "'''#print(\"tid: \", min(tid_pool),\"-\",max(tid_pool))\n",
    "\n",
    "fre = {}\n",
    "for i in tid_pool:\n",
    "    if i not in fre:\n",
    "        fre[i] = 1\n",
    "    else:\n",
    "        fre[i] += 1\n",
    "print(fre)\n",
    "\n",
    "\n",
    "# Print the tid distribution\n",
    "plt.title(\"tid distribution\")\n",
    "plt.hist(tid_pool,  color = 'lightblue')\n",
    "plt.xlim(min(tid_pool), max(tid_pool))'''\n"
   ]
  },
  {
   "cell_type": "code",
   "execution_count": null,
   "metadata": {},
   "outputs": [],
   "source": []
  }
 ],
 "metadata": {
  "kernelspec": {
   "display_name": "Python 3 (ipykernel)",
   "language": "python",
   "name": "python3"
  },
  "language_info": {
   "codemirror_mode": {
    "name": "ipython",
    "version": 3
   },
   "file_extension": ".py",
   "mimetype": "text/x-python",
   "name": "python",
   "nbconvert_exporter": "python",
   "pygments_lexer": "ipython3",
   "version": "3.9.7"
  }
 },
 "nbformat": 4,
 "nbformat_minor": 2
}
