{
 "cells": [
  {
   "cell_type": "code",
   "execution_count": null,
   "metadata": {},
   "outputs": [],
   "source": [
    "# Convert Generator file to temporal dataset "
   ]
  },
  {
   "cell_type": "code",
   "execution_count": 1,
   "metadata": {},
   "outputs": [],
   "source": [
    "import numpy as np\n",
    "import math"
   ]
  },
  {
   "cell_type": "code",
   "execution_count": 2,
   "metadata": {},
   "outputs": [],
   "source": [
    "# normal distribution for integer\n",
    "from scipy.stats import truncnorm\n",
    "import matplotlib.pyplot as plt"
   ]
  },
  {
   "cell_type": "code",
   "execution_count": null,
   "metadata": {},
   "outputs": [],
   "source": []
  },
  {
   "cell_type": "code",
   "execution_count": 7,
   "metadata": {},
   "outputs": [],
   "source": [
    "with open('test.data.tra', 'r') as f:\n",
    "    lines = f.read().splitlines()"
   ]
  },
  {
   "cell_type": "code",
   "execution_count": 8,
   "metadata": {},
   "outputs": [
    {
     "name": "stdout",
     "output_type": "stream",
     "text": [
      "Datasize: 104924\n",
      "Number of items: 30\n",
      "First row of data:\n",
      " ['3', '5', '8', '11', '14', '17', '18', '21', '28']\n"
     ]
    }
   ],
   "source": [
    "# IBM data reading\n",
    "item_numbers = {}\n",
    "data = []\n",
    "flag = 0\n",
    "for line in lines:\n",
    "    temp = []\n",
    "    element_list = line.split(\", \")\n",
    "    #print(\"element_list:\",element_list)\n",
    "\n",
    "    for element in element_list:\n",
    "        if element not in item_numbers:\n",
    "            item_numbers[element] = 1\n",
    "        temp.append(element)\n",
    "    data.append(temp)\n",
    "                \n",
    "print(\"Datasize:\",len(data))\n",
    "print(\"Number of items:\", len(item_numbers))\n",
    "#print(\"items:\", item_numbers)\n",
    "print(\"First row of data:\\n\", data[0])\n",
    "#print(data)"
   ]
  },
  {
   "cell_type": "code",
   "execution_count": 9,
   "metadata": {},
   "outputs": [
    {
     "name": "stdout",
     "output_type": "stream",
     "text": [
      "First row of data:\n",
      " ['3', '5', '8', '11', '14', '17', '18', '21', '28']\n"
     ]
    }
   ],
   "source": [
    "# 用來確認兩次的調參有沒有確實改變到資料集的產生，很容易其實沒有調到\n",
    "print(\"First row of data:\\n\", data[0])"
   ]
  },
  {
   "cell_type": "code",
   "execution_count": 10,
   "metadata": {},
   "outputs": [
    {
     "name": "stdout",
     "output_type": "stream",
     "text": [
      "average items per trans: 10.13755670771225\n"
     ]
    }
   ],
   "source": [
    "# 用來檢查 -tlen\n",
    "summer = 0\n",
    "for row in data:\n",
    "    summer += len(row)\n",
    "\n",
    "print(\"average items per trans:\", summer/len(data))"
   ]
  },
  {
   "cell_type": "code",
   "execution_count": 11,
   "metadata": {
    "scrolled": false
   },
   "outputs": [
    {
     "name": "stdout",
     "output_type": "stream",
     "text": [
      "69_0, 9, 15, 16, 17, 21, 28, 29\n",
      "\n"
     ]
    },
    {
     "data": {
      "text/plain": [
       "'#print(\"tid: \", min(tid_pool),\"-\",max(tid_pool))\\n\\nfre = {}\\nfor i in tid_pool:\\n    if i not in fre:\\n        fre[i] = 1\\n    else:\\n        fre[i] += 1\\nprint(fre)\\n\\n\\n# Print the tid distribution\\nplt.title(\"tid distribution\")\\nplt.hist(tid_pool,  color = \\'lightblue\\')\\nplt.xlim(min(tid_pool), max(tid_pool))'"
      ]
     },
     "execution_count": 11,
     "metadata": {},
     "output_type": "execute_result"
    }
   ],
   "source": [
    "w = open('item-2.txt', 'w+') \n",
    "\n",
    "# IBM generation\n",
    "\n",
    "\n",
    "dataset = []\n",
    "total_trans = len(data)\n",
    "\n",
    "auto_pid = 0\n",
    "\n",
    "# Tid insertion - Normal distribution\n",
    "\"\"\"\n",
    "tid_pool = []\n",
    "for i in range(total_trans):\n",
    "    tid = np.random.normal(0, 0.02) + 1\n",
    "    tid = int(tid*20)\n",
    "    tid_pool.append(tid)\n",
    "    \n",
    "\n",
    "# After normal distribution's tid not start from 1, so we need shifting\n",
    "shift = min(tid_pool)\n",
    "for i in range(0, len(tid_pool)):\n",
    "    tid_pool[i] = tid_pool[i] - shift + 1\n",
    "\"\"\"\n",
    "\n",
    "# for graphing item' gain distribution\n",
    "item_box = {}\n",
    "profit_dis = []\n",
    "total_gain = 0\n",
    "\n",
    "for row in data:\n",
    "    \n",
    "    # Using set to filter repeat items in one transaction\n",
    "    #row = list(set(row))\n",
    "    \n",
    "    # Profit insertion - Log normal distribution\n",
    "    #profit = int(np.random.lognormal(mean=7, sigma=0.5, size=None)) + 5 \n",
    "    profit = int(np.random.normal(loc=100, scale=20, size=None))\n",
    "    profit_dis.append(profit)\n",
    "    total_gain += profit\n",
    "    \n",
    "    trans_str = \"\"\n",
    "    for item in row:\n",
    "        trans_str = trans_str + str(item) + \", \"\n",
    "        \n",
    "        if int(item) not in item_box:\n",
    "            item_box[int(item)] = profit\n",
    "        else:\n",
    "            item_box[int(item)] += profit\n",
    "    \n",
    "    \n",
    "    # TID_PID_ITEMS_PROFIT\n",
    "    trans_str = trans_str.rstrip(\", \") \n",
    "    trans_str = str(profit) + \"_\" + trans_str\n",
    "    #trans_str = trans_str.split(\" \")\n",
    "    \n",
    "    # pid auto\n",
    "    auto_pid = auto_pid + 1\n",
    "    \n",
    "    dataset.append(trans_str)\n",
    "\n",
    "# Sort transaction by Tid in ascending order - then it will be normal distribute\n",
    "#dataset = sorted(dataset, key=lambda dataset: dataset[0], reverse=False)\n",
    "\n",
    "# Final - write the dataset in to the .txt file\n",
    "for row in dataset:\n",
    "    trans_str = \"\"\n",
    "    #for i in range(0, len(row)):\n",
    "        #trans_str = trans_str + row[i] + \" \"\n",
    "    trans_str = trans_str + row + \"\\n\"\n",
    "    w.write(trans_str)\n",
    "\n",
    "# Just in case, check the program really work.\n",
    "print(trans_str)\n",
    "f.close()\n",
    "w.close()\n",
    "\n",
    "'''#print(\"tid: \", min(tid_pool),\"-\",max(tid_pool))\n",
    "\n",
    "fre = {}\n",
    "for i in tid_pool:\n",
    "    if i not in fre:\n",
    "        fre[i] = 1\n",
    "    else:\n",
    "        fre[i] += 1\n",
    "print(fre)\n",
    "\n",
    "\n",
    "# Print the tid distribution\n",
    "plt.title(\"tid distribution\")\n",
    "plt.hist(tid_pool,  color = 'lightblue')\n",
    "plt.xlim(min(tid_pool), max(tid_pool))'''\n"
   ]
  },
  {
   "cell_type": "code",
   "execution_count": 12,
   "metadata": {},
   "outputs": [
    {
     "data": {
      "text/plain": [
       "(200349.0, 7030094.0)"
      ]
     },
     "execution_count": 12,
     "metadata": {},
     "output_type": "execute_result"
    },
    {
     "data": {
      "image/png": "[encoded data removed]",
      "text/plain": [
       "<Figure size 432x288 with 1 Axes>"
      ]
     },
     "metadata": {
      "needs_background": "light"
     },
     "output_type": "display_data"
    }
   ],
   "source": [
    "# 用來觀察每個 items 的 gain 分布 ((可以用來判斷參數設定優劣\n",
    "\n",
    "item_box = dict(sorted(item_box.items(), key=lambda item:item[0]))\n",
    "item_box_2 = []\n",
    "\n",
    "for item, gain in item_box.items():\n",
    "    item_box_2.append(gain)\n",
    "\n",
    "\n",
    "\n",
    "# Print the tid distribution\n",
    "plt.title(\"Gain distribution\")\n",
    "plt.hist(item_box_2,  color = 'lightblue')\n",
    "plt.xlim(min(item_box_2), max(item_box_2))"
   ]
  },
  {
   "cell_type": "code",
   "execution_count": 13,
   "metadata": {},
   "outputs": [
    {
     "data": {
      "text/plain": [
       "(7.0, 186.0)"
      ]
     },
     "execution_count": 13,
     "metadata": {},
     "output_type": "execute_result"
    },
    {
     "data": {
      "image/png": "[encoded data removed]",
      "text/plain": [
       "<Figure size 432x288 with 1 Axes>"
      ]
     },
     "metadata": {
      "needs_background": "light"
     },
     "output_type": "display_data"
    }
   ],
   "source": [
    "# Print the profit distribution\n",
    "plt.title(\"profit distribution\")\n",
    "plt.hist(profit_dis,  color = 'lightblue')\n",
    "plt.xlim(min(profit_dis), max(profit_dis))"
   ]
  },
  {
   "cell_type": "markdown",
   "metadata": {},
   "source": []
  },
  {
   "cell_type": "code",
   "execution_count": null,
   "metadata": {},
   "outputs": [],
   "source": [
    "tygyyu"
   ]
  },
  {
   "cell_type": "code",
   "execution_count": null,
   "metadata": {},
   "outputs": [],
   "source": []
  },
  {
   "cell_type": "code",
   "execution_count": 69,
   "metadata": {},
   "outputs": [],
   "source": [
    "r = open('C:/Users/User/Desktop/t-8.txt', 'r') \n",
    "w = open('C:/Users/User/Desktop/t-9.txt', 'w+')\n",
    "lines = r.read().splitlines()\n",
    "add = 0.001\n",
    "element_list = []\n",
    "\n",
    "for line in lines:\n",
    "    temp = []\n",
    "    temp = line.split(\"_\")\n",
    "    temp[1] = round(float(temp[1]) + add,10)\n",
    "    element_list.append(temp)\n",
    "\n",
    "for element in element_list:\n",
    "    threshold_str = \"\"\n",
    "    threshold = element[1]\n",
    "    threshold_str = threshold_str + element[0] + \"_\" + repr(threshold) + \"\\n\"\n",
    "    w.write(threshold_str)\n",
    "         \n",
    "\n",
    "'''item_num = input(\"Please enter number of items:\")\n",
    "item_num = int(item_num)\n",
    "threshold_dis = []\n",
    "\n",
    "for item in range(item_num):\n",
    "    threshold_str = \"\"\n",
    "    threshold = float(np.random.random()/2)\n",
    "    #threshold = float(np.random.lognormal(mean=0.001, sigma=0.35, size=None))\n",
    "    threshold = round(threshold, 2)\n",
    "    threshold_dis.append(threshold)\n",
    "    threshold_str = threshold_str + str(item) + \"_\" + str(threshold) + \"\\n\"\n",
    "    print(threshold_str,end='')\n",
    "    w.write(threshold_str)\n",
    "    \n",
    "\n",
    "# Print the threshold distribution\n",
    "plt.title(\"threshold distribution\")\n",
    "plt.hist(threshold_dis,  color = 'lightblue')\n",
    "plt.xlim(min(threshold_dis), max(threshold_dis))'''\n",
    "\n",
    "r.close()\n",
    "w.close()"
   ]
  },
  {
   "cell_type": "code",
   "execution_count": 88,
   "metadata": {},
   "outputs": [
    {
     "data": {
      "text/plain": [
       "'item_num = input(\"Please enter number of items:\")\\nitem_num = int(item_num)\\nthreshold_dis = []\\n\\nfor item in range(item_num):\\n    threshold_str = \"\"\\n    threshold = float(np.random.random()/2)\\n    #threshold = float(np.random.lognormal(mean=0.001, sigma=0.35, size=None))\\n    threshold = round(threshold, 2)\\n    threshold_dis.append(threshold)\\n    threshold_str = threshold_str + str(item) + \"_\" + str(threshold) + \"\\n\"\\n    print(threshold_str,end=\\'\\')\\n    w.write(threshold_str)\\n    \\n\\n# Print the threshold distribution\\nplt.title(\"threshold distribution\")\\nplt.hist(threshold_dis,  color = \\'lightblue\\')\\nplt.xlim(min(threshold_dis), max(threshold_dis))'"
      ]
     },
     "execution_count": 88,
     "metadata": {},
     "output_type": "execute_result"
    }
   ],
   "source": [
    "for i in range (2,9):\n",
    "    r = open('C:/Users/User/Desktop/t-1.txt', 'r') \n",
    "    w = open('C:/Users/User/Desktop/t-' + str(i) +'.txt', 'w+')\n",
    "    lines = r.read().splitlines()\n",
    "    add = 0.01 * (i-1)\n",
    "    element_list = []\n",
    "    \n",
    "    for line in lines:\n",
    "        temp = []\n",
    "        temp = line.split(\"_\")\n",
    "        temp[1] = round(float(temp[1]) + add,10)\n",
    "        element_list.append(temp)\n",
    "\n",
    "    for element in element_list:\n",
    "        threshold_str = \"\"\n",
    "        threshold = element[1]\n",
    "        threshold_str = threshold_str + element[0] + \"_\" + repr(threshold) + \"\\n\"\n",
    "        w.write(threshold_str)\n",
    "    r.close()\n",
    "    w.close()\n",
    "\n",
    "'''item_num = input(\"Please enter number of items:\")\n",
    "item_num = int(item_num)\n",
    "threshold_dis = []\n",
    "\n",
    "for item in range(item_num):\n",
    "    threshold_str = \"\"\n",
    "    threshold = float(np.random.random()/2)\n",
    "    #threshold = float(np.random.lognormal(mean=0.001, sigma=0.35, size=None))\n",
    "    threshold = round(threshold, 2)\n",
    "    threshold_dis.append(threshold)\n",
    "    threshold_str = threshold_str + str(item) + \"_\" + str(threshold) + \"\\n\"\n",
    "    print(threshold_str,end='')\n",
    "    w.write(threshold_str)\n",
    "    \n",
    "\n",
    "# Print the threshold distribution\n",
    "plt.title(\"threshold distribution\")\n",
    "plt.hist(threshold_dis,  color = 'lightblue')\n",
    "plt.xlim(min(threshold_dis), max(threshold_dis))'''\n",
    "\n",
    "\n",
    "\n",
    "\n"
   ]
  },
  {
   "cell_type": "code",
   "execution_count": null,
   "metadata": {},
   "outputs": [],
   "source": []
  },
  {
   "cell_type": "code",
   "execution_count": null,
   "metadata": {},
   "outputs": [],
   "source": []
  },
  {
   "cell_type": "code",
   "execution_count": 13,
   "metadata": {},
   "outputs": [
    {
     "name": "stdout",
     "output_type": "stream",
     "text": [
      "3 59439 18863 153 \n",
      "\n",
      "tid:  1 - 3\n",
      "{2: 58859, 3: 379, 1: 363}\n"
     ]
    },
    {
     "data": {
      "text/plain": [
       "(1, 3)"
      ]
     },
     "execution_count": 13,
     "metadata": {},
     "output_type": "execute_result"
    },
    {
     "data": {
      "image/png": "[encoded data removed]",
      "text/plain": [
       "<Figure size 432x288 with 1 Axes>"
      ]
     },
     "metadata": {},
     "output_type": "display_data"
    }
   ],
   "source": [
    "# webview transform\n",
    "with open('webview1.txt', 'r') as f:\n",
    "    lines = f.read().splitlines()\n",
    "w = open('D:/graduate/temporal/webview1.txt', 'w+') \n",
    "\n",
    "dataset = []\n",
    "data = []\n",
    "total_trans = len(lines)\n",
    "\n",
    "\n",
    "# Tid insertion - Normal distribution\n",
    "tid_pool = []\n",
    "for i in range(total_trans):\n",
    "    tid = np.random.normal(0, 0.02) + 1\n",
    "    tid = int(tid*20)\n",
    "    if(tid > 3):\n",
    "        tid = tid - 1\n",
    "    tid_pool.append(tid)\n",
    "    \n",
    "# After normal distribution's tid not start from 1, so we need shifting\n",
    "shift = min(tid_pool)\n",
    "for i in range(0, len(tid_pool)):\n",
    "    tid_pool[i] = tid_pool[i] - shift + 1\n",
    "\n",
    "for i in range(0, len(tid_pool)):\n",
    "    if(tid_pool[i]>2):\n",
    "        tid_pool[i] = tid_pool[i] - 1\n",
    "    \n",
    "    \n",
    "auto_pid = 0\n",
    "for row in lines:\n",
    "    \n",
    "    row = row.split(\" \")\n",
    "    trans_str = \"\"\n",
    "    for item in row:\n",
    "        if(item == \"-1\" or item == \"-2\"):\n",
    "            continue\n",
    "        trans_str = trans_str + item + \" \"\n",
    "        \n",
    "    # Profit insertion - Log normal distribution\n",
    "    profit = int(np.random.lognormal(mean=5, sigma=0.025, size=None)) + 5 \n",
    "    \n",
    "    # TID_PID_ITEMS_PROFIT\n",
    "    trans_str = str(tid_pool[auto_pid]) + \" \" + str(auto_pid) + \" \" + trans_str + str(profit)\n",
    "    trans_str = trans_str.split(\" \")\n",
    "\n",
    "    # pid auto\n",
    "    auto_pid = auto_pid + 1\n",
    "    \n",
    "    dataset.append(trans_str)\n",
    "    \n",
    "dataset = sorted(dataset, key=lambda dataset: dataset[0], reverse=False)\n",
    "\n",
    "\n",
    "# Final - write the dataset in to the .txt file\n",
    "for row in dataset:\n",
    "    trans_str = \"\"\n",
    "    for i in range(0, len(row)):\n",
    "        trans_str = trans_str + row[i] + \" \"\n",
    "    trans_str = trans_str + \"\\n\"\n",
    "    w.write(trans_str)\n",
    "\n",
    "# Just in case, check the program really work.\n",
    "print(trans_str)\n",
    "f.close()\n",
    "w.close()\n",
    "\n",
    "\n",
    "print(\"tid: \", min(tid_pool),\"-\",max(tid_pool))\n",
    "\n",
    "fre = {}\n",
    "for i in tid_pool:\n",
    "    if i not in fre:\n",
    "        fre[i] = 1\n",
    "    else:\n",
    "        fre[i] += 1\n",
    "print(fre)\n",
    "\n",
    "# Print the tid distribution\n",
    "plt.title(\"tid distribution\")\n",
    "plt.hist(tid_pool,  color = 'lightblue')\n",
    "plt.xlim(min(tid_pool), max(tid_pool))"
   ]
  },
  {
   "cell_type": "code",
   "execution_count": null,
   "metadata": {},
   "outputs": [],
   "source": [
    "plt.title(\"Profit range\")\n",
    "plt.hist(data, density=False, color = 'lightblue', cumulative = False)\n",
    "plt.xlim(min(data), max(data))"
   ]
  },
  {
   "cell_type": "code",
   "execution_count": null,
   "metadata": {},
   "outputs": [],
   "source": [
    "data = []\n",
    "for i in range(50000):\n",
    "    profit = int(np.random.lognormal(mean=5, sigma=0.0025, size=None))\n",
    "    data.append(profit)\n",
    "    \n",
    "plt.title(\"Profit range\")\n",
    "plt.hist(data, density=False, color = 'lightblue', cumulative = False)\n",
    "plt.xlim(min(data), max(data))"
   ]
  },
  {
   "cell_type": "code",
   "execution_count": null,
   "metadata": {},
   "outputs": [],
   "source": []
  },
  {
   "cell_type": "code",
   "execution_count": null,
   "metadata": {},
   "outputs": [],
   "source": []
  },
  {
   "cell_type": "code",
   "execution_count": null,
   "metadata": {},
   "outputs": [],
   "source": []
  },
  {
   "cell_type": "code",
   "execution_count": null,
   "metadata": {},
   "outputs": [],
   "source": []
  },
  {
   "cell_type": "code",
   "execution_count": null,
   "metadata": {},
   "outputs": [],
   "source": []
  },
  {
   "cell_type": "code",
   "execution_count": 27,
   "metadata": {},
   "outputs": [],
   "source": []
  },
  {
   "cell_type": "code",
   "execution_count": 3,
   "metadata": {},
   "outputs": [
    {
     "name": "stdout",
     "output_type": "stream",
     "text": [
      "{}\n"
     ]
    },
    {
     "data": {
      "image/png": "[encoded data removed]",
      "text/plain": [
       "<Figure size 432x288 with 1 Axes>"
      ]
     },
     "metadata": {
      "needs_background": "light"
     },
     "output_type": "display_data"
    }
   ],
   "source": [
    "with open('connect.txt', 'r') as f:\n",
    "    lines = f.read().splitlines()\n",
    "w = open('connect-.txt', 'w+') \n",
    "\n",
    "# chess transformation\n",
    "dataset = []\n",
    "total_trans = len(lines)\n",
    "profit_dis = []\n",
    "item_box = {}\n",
    "\n",
    "'''\n",
    "# Tid insertion - Normal distribution\n",
    "tid_pool = []\n",
    "for i in range(total_trans):\n",
    "    tid = np.random.normal(0, 0.02) + 1\n",
    "    tid = int(tid*20)\n",
    "    tid_pool.append(tid)\n",
    "    \n",
    "# After normal distribution's tid not start from 1, so we need shifting\n",
    "shift = min(tid_pool)\n",
    "for i in range(0, len(tid_pool)):\n",
    "    tid_pool[i] = tid_pool[i] - shift + 1\n",
    "'''\n",
    "for item in range(1,129):\n",
    "    item_box[item] = 0\n",
    "\n",
    "\n",
    "auto_pid = 0\n",
    "for row in lines:\n",
    "    \n",
    "    row=row.rstrip()\n",
    "    element_list = row.split(\" \")\n",
    "    trans_str = \"\"\n",
    "    for item in row:\n",
    "        trans_str += item\n",
    "    for element in element_list:\n",
    "        if int(element) in item_box:\n",
    "            del item_box[int(element)]\n",
    "        \n",
    "    # Profit insertion - Log normal distribution\n",
    "    #profit = int(np.random.lognormal(mean=5, sigma=0.025, size=None)) + 5\n",
    "    profit = int(np.random.normal(loc=100, scale=20, size=None))\n",
    "    profit_dis.append(profit)\n",
    "    \n",
    "    # TID_PID_ITEMS_PROFIT\n",
    "    #trans_str = str(tid_pool[auto_pid]) + \" \" + str(auto_pid) + \" \" + trans_str + str(profit)\n",
    "    trans_str = trans_str.rstrip()\n",
    "    trans_str = trans_str.replace(\" \", \", \")\n",
    "    trans_str = str(profit) + \"_\" + trans_str + \"\\n\"\n",
    "    #print(trans_str)\n",
    "    w.write(trans_str)\n",
    "    #dataset.append(trans_str)\n",
    "\n",
    "f.close()\n",
    "w.close()\n",
    "\n",
    "\n",
    "'''\n",
    "# Final - write the dataset in to the .txt file\n",
    "for row in dataset:\n",
    "    trans_str = \"\"\n",
    "    for i in range(0, len(row)):\n",
    "        trans_str = trans_str + row[i] + \" \"\n",
    "    trans_str = trans_str + \"\\n\"\n",
    "    w.write(trans_str)\n",
    "\n",
    "# Just in case, check the program really work.\n",
    "print(trans_str)\n",
    "f.close()\n",
    "w.close()\n",
    "\n",
    "    # pid auto\n",
    "    auto_pid = auto_pid + 1\n",
    "    \n",
    "    dataset.append(trans_str)\n",
    "\n",
    "# Sort transaction by Tid in ascending order - then it will be normal distribute\n",
    "dataset = sorted(dataset, key=lambda dataset: dataset[0], reverse=False)\n",
    "\n",
    "# Final - write the dataset in to the .txt file\n",
    "for row in dataset:\n",
    "    trans_str = \"\"\n",
    "    for i in range(0, len(row)):\n",
    "        trans_str = trans_str + row[i] + \" \"\n",
    "    trans_str = trans_str + \"\\n\"\n",
    "    w.write(trans_str)\n",
    "\n",
    "# Just in case, check the program really work.\n",
    "print(trans_str)\n",
    "f.close()\n",
    "w.close()\n",
    "\n",
    "\n",
    "print(\"tid: \", min(tid_pool),\"-\",max(tid_pool))\n",
    "\n",
    "fre = {}\n",
    "for i in tid_pool:\n",
    "    if i not in fre:\n",
    "        fre[i] = 1\n",
    "    else:\n",
    "        fre[i] += 1\n",
    "print(fre)\n",
    "\n",
    "# Print the tid distribution\n",
    "plt.title(\"tid distribution\")\n",
    "plt.hist(tid_pool,  color = 'lightblue')\n",
    "plt.xlim(min(tid_pool), max(tid_pool))\n",
    "'''\n",
    "# Print the profit distribution\n",
    "plt.title(\"profit distribution\")\n",
    "plt.hist(profit_dis,  color = 'lightblue')\n",
    "plt.xlim(min(profit_dis), max(profit_dis))\n",
    "\n",
    "print(item_box)"
   ]
  },
  {
   "cell_type": "code",
   "execution_count": null,
   "metadata": {},
   "outputs": [],
   "source": []
  },
  {
   "cell_type": "code",
   "execution_count": 31,
   "metadata": {},
   "outputs": [],
   "source": [
    "with open('mushrooms.txt', 'r') as f:\n",
    "    lines = f.read().splitlines()\n",
    "w = open('mushrooms-.txt', 'w+') "
   ]
  },
  {
   "cell_type": "code",
   "execution_count": 32,
   "metadata": {},
   "outputs": [
    {
     "name": "stdout",
     "output_type": "stream",
     "text": [
      "4 8095 1 7 12 21 24 31 36 39 41 47 55 63 66 70 79 88 90 94 98 104 114 118 122 152 \n",
      "\n",
      "tid:  1 - 4\n",
      "{3: 4212, 2: 4100, 4: 45, 1: 59}\n"
     ]
    },
    {
     "data": {
      "text/plain": [
       "(1.0, 4.0)"
      ]
     },
     "execution_count": 32,
     "metadata": {},
     "output_type": "execute_result"
    },
    {
     "data": {
      "image/png": "[encoded data removed]",
      "text/plain": [
       "<Figure size 432x288 with 1 Axes>"
      ]
     },
     "metadata": {
      "needs_background": "light"
     },
     "output_type": "display_data"
    }
   ],
   "source": [
    "# chess transformation\n",
    "dataset = []\n",
    "total_trans = len(lines)\n",
    "\n",
    "# Tid insertion - Normal distribution\n",
    "tid_pool = []\n",
    "for i in range(total_trans):\n",
    "    tid = np.random.normal(0, 0.02) + 1\n",
    "    tid = int(tid*20)\n",
    "    tid_pool.append(tid)\n",
    "    \n",
    "# After normal distribution's tid not start from 1, so we need shifting\n",
    "shift = min(tid_pool)\n",
    "for i in range(0, len(tid_pool)):\n",
    "    tid_pool[i] = tid_pool[i] - shift + 1\n",
    "\n",
    "\n",
    "auto_pid = 0\n",
    "for row in lines:\n",
    "    \n",
    "    trans_str = \"\"\n",
    "    for item in row:\n",
    "        trans_str += item\n",
    "        \n",
    "    # Profit insertion - Log normal distribution\n",
    "    profit = int(np.random.lognormal(mean=5, sigma=0.025, size=None)) + 5 \n",
    "    \n",
    "    # TID_PID_ITEMS_PROFIT\n",
    "    trans_str = str(tid_pool[auto_pid]) + \" \" + str(auto_pid) + \" \" + trans_str + str(profit)\n",
    "    trans_str = trans_str.split(\" \")\n",
    "    \n",
    "    \n",
    "    # pid auto\n",
    "    auto_pid = auto_pid + 1\n",
    "    \n",
    "    dataset.append(trans_str)\n",
    "\n",
    "# Sort transaction by Tid in ascending order - then it will be normal distribute\n",
    "dataset = sorted(dataset, key=lambda dataset: dataset[0], reverse=False)\n",
    "\n",
    "# Final - write the dataset in to the .txt file\n",
    "for row in dataset:\n",
    "    trans_str = \"\"\n",
    "    for i in range(0, len(row)):\n",
    "        trans_str = trans_str + row[i] + \" \"\n",
    "    trans_str = trans_str + \"\\n\"\n",
    "    w.write(trans_str)\n",
    "\n",
    "# Just in case, check the program really work.\n",
    "print(trans_str)\n",
    "f.close()\n",
    "w.close()\n",
    "\n",
    "\n",
    "print(\"tid: \", min(tid_pool),\"-\",max(tid_pool))\n",
    "\n",
    "fre = {}\n",
    "for i in tid_pool:\n",
    "    if i not in fre:\n",
    "        fre[i] = 1\n",
    "    else:\n",
    "        fre[i] += 1\n",
    "print(fre)\n",
    "\n",
    "# Print the tid distribution\n",
    "plt.title(\"tid distribution\")\n",
    "plt.hist(tid_pool,  color = 'lightblue')\n",
    "plt.xlim(min(tid_pool), max(tid_pool))"
   ]
  },
  {
   "cell_type": "code",
   "execution_count": null,
   "metadata": {},
   "outputs": [],
   "source": []
  },
  {
   "cell_type": "code",
   "execution_count": 90,
   "metadata": {
    "scrolled": true
   },
   "outputs": [
    {
     "name": "stdout",
     "output_type": "stream",
     "text": [
      "0_0.1446\n",
      "1_0.1962\n",
      "2_0.1212\n",
      "3_0.1549\n",
      "4_0.1953\n",
      "5_0.1482\n",
      "6_0.1937\n",
      "7_0.1178\n",
      "8_0.1415\n",
      "9_0.1426\n",
      "10_0.1271\n",
      "11_0.1474\n",
      "12_0.1482\n",
      "13_0.1393\n",
      "14_0.1789\n",
      "15_0.1505\n",
      "16_0.1479\n",
      "17_0.1659\n",
      "18_0.1058\n",
      "19_0.1089\n",
      "20_0.1842\n",
      "21_0.1367\n",
      "22_0.1294\n",
      "23_0.1725\n",
      "24_0.1708\n",
      "25_0.1887\n",
      "26_0.1624\n",
      "27_0.1047\n",
      "28_0.1208\n",
      "29_0.113\n",
      "30_0.114\n",
      "31_0.1583\n",
      "32_0.1618\n",
      "33_0.1611\n",
      "34_0.1059\n",
      "35_0.1208\n",
      "36_0.1601\n",
      "37_0.1606\n",
      "38_0.1672\n",
      "39_0.1193\n",
      "40_0.1783\n",
      "41_0.1584\n",
      "42_0.1679\n",
      "43_0.1651\n",
      "44_0.1329\n",
      "45_0.1846\n",
      "46_0.1858\n",
      "47_0.1056\n",
      "48_0.1137\n",
      "49_0.1399\n",
      "50_0.1775\n",
      "51_0.1007\n",
      "52_0.108\n",
      "53_0.1002\n",
      "54_0.1727\n",
      "55_0.1257\n",
      "56_0.1808\n",
      "57_0.1378\n",
      "58_0.1983\n",
      "59_0.1237\n"
     ]
    },
    {
     "data": {
      "image/png": "[encoded data removed]",
      "text/plain": [
       "<Figure size 432x288 with 1 Axes>"
      ]
     },
     "metadata": {
      "needs_background": "light"
     },
     "output_type": "display_data"
    }
   ],
   "source": [
    "w = open('C:/Users/User/Desktop/threshold-2.txt', 'w+') \n",
    "\n",
    "\"\"\"\n",
    "item_num = input(\"Please enter number of items:\")\n",
    "item_num = int(item_num)\n",
    "\"\"\"\n",
    "item_num = 60\n",
    "threshold_dis = []\n",
    "\n",
    "for item in range(item_num):\n",
    "    threshold_str = \"\"\n",
    "    #threshold = float(np.random.random()/2)\n",
    "    #threshold = float(np.random.lognormal(mean=0.001, sigma=0.35, size=None))\n",
    "    threshold = np.random.uniform(0.1,0.2)\n",
    "    threshold = round(threshold, 4)\n",
    "    threshold_dis.append(threshold)\n",
    "    threshold_str = threshold_str + str(item) + \"_\" + str(threshold) + \"\\n\"\n",
    "    print(threshold_str,end='')\n",
    "    w.write(threshold_str)\n",
    "    \n",
    "\n",
    "# Print the threshold distribution\n",
    "plt.title(\"threshold distribution\")\n",
    "plt.hist(threshold_dis,  color = 'lightblue')\n",
    "plt.xlim(min(threshold_dis), max(threshold_dis))\n",
    "\n",
    "w.close()\n"
   ]
  },
  {
   "cell_type": "code",
   "execution_count": 55,
   "metadata": {},
   "outputs": [
    {
     "name": "stdout",
     "output_type": "stream",
     "text": [
      "194_40 10 43 3 42 24 31 11 \n",
      "\n"
     ]
    },
    {
     "data": {
      "text/plain": [
       "'#print(\"tid: \", min(tid_pool),\"-\",max(tid_pool))\\n\\nfre = {}\\nfor i in tid_pool:\\n    if i not in fre:\\n        fre[i] = 1\\n    else:\\n        fre[i] += 1\\nprint(fre)\\n\\n\\n# Print the tid distribution\\nplt.title(\"tid distribution\")\\nplt.hist(tid_pool,  color = \\'lightblue\\')\\nplt.xlim(min(tid_pool), max(tid_pool))'"
      ]
     },
     "execution_count": 55,
     "metadata": {},
     "output_type": "execute_result"
    }
   ],
   "source": [
    "w = open('I0.05D4T15.txt', 'w+') \n",
    "\n",
    "# IBM generation\n",
    "\n",
    "\n",
    "dataset = []\n",
    "total_trans = len(data)\n",
    "\n",
    "auto_pid = 0\n",
    "\n",
    "# Tid insertion - Normal distribution\n",
    "\"\"\"\n",
    "tid_pool = []\n",
    "for i in range(total_trans):\n",
    "    tid = np.random.normal(0, 0.02) + 1\n",
    "    tid = int(tid*20)\n",
    "    tid_pool.append(tid)\n",
    "    \n",
    "\n",
    "# After normal distribution's tid not start from 1, so we need shifting\n",
    "shift = min(tid_pool)\n",
    "for i in range(0, len(tid_pool)):\n",
    "    tid_pool[i] = tid_pool[i] - shift + 1\n",
    "\"\"\"\n",
    "\n",
    "# for graphing item' gain distribution\n",
    "item_box = {}\n",
    "profit_dis = []\n",
    "total_gain = 0\n",
    "\n",
    "for row in data:\n",
    "    \n",
    "    # Using set to filter repeat items in one transaction\n",
    "    row = list(set(row))\n",
    "    \n",
    "    # Profit insertion - Log normal distribution\n",
    "    profit = int(np.random.lognormal(mean=5, sigma=0.5, size=None)) + 5 \n",
    "    profit_dis.append(profit)\n",
    "    total_gain += profit\n",
    "    \n",
    "    trans_str = \"\"\n",
    "    for item in row:\n",
    "        trans_str = trans_str + str(item) + \" \"\n",
    "        \n",
    "        if int(item) not in item_box:\n",
    "            item_box[int(item)] = profit\n",
    "        else:\n",
    "            item_box[int(item)] += profit\n",
    "    \n",
    "    \n",
    "    # TID_PID_ITEMS_PROFIT\n",
    "    trans_str = str(profit) + \"_\" + trans_str\n",
    "    #trans_str = trans_str.split(\" \")\n",
    "    \n",
    "    # pid auto\n",
    "    auto_pid = auto_pid + 1\n",
    "    \n",
    "    dataset.append(trans_str)\n",
    "\n",
    "# Sort transaction by Tid in ascending order - then it will be normal distribute\n",
    "#dataset = sorted(dataset, key=lambda dataset: dataset[0], reverse=False)\n",
    "\n",
    "# Final - write the dataset in to the .txt file\n",
    "for row in dataset:\n",
    "    trans_str = \"\"\n",
    "    #for i in range(0, len(row)):\n",
    "        #trans_str = trans_str + row[i] + \" \"\n",
    "    trans_str = trans_str + row + \"\\n\"\n",
    "    w.write(trans_str)\n",
    "\n",
    "# Just in case, check the program really work.\n",
    "print(trans_str)\n",
    "f.close()\n",
    "w.close()\n",
    "\n",
    "'''#print(\"tid: \", min(tid_pool),\"-\",max(tid_pool))\n",
    "\n",
    "fre = {}\n",
    "for i in tid_pool:\n",
    "    if i not in fre:\n",
    "        fre[i] = 1\n",
    "    else:\n",
    "        fre[i] += 1\n",
    "print(fre)\n",
    "\n",
    "\n",
    "# Print the tid distribution\n",
    "plt.title(\"tid distribution\")\n",
    "plt.hist(tid_pool,  color = 'lightblue')\n",
    "plt.xlim(min(tid_pool), max(tid_pool))'''\n"
   ]
  },
  {
   "cell_type": "code",
   "execution_count": null,
   "metadata": {},
   "outputs": [],
   "source": []
  },
  {
   "cell_type": "code",
   "execution_count": null,
   "metadata": {},
   "outputs": [],
   "source": []
  }
 ],
 "metadata": {
  "kernelspec": {
   "display_name": "Python 3 (ipykernel)",
   "language": "python",
   "name": "python3"
  },
  "language_info": {
   "codemirror_mode": {
    "name": "ipython",
    "version": 3
   },
   "file_extension": ".py",
   "mimetype": "text/x-python",
   "name": "python",
   "nbconvert_exporter": "python",
   "pygments_lexer": "ipython3",
   "version": "3.9.7"
  }
 },
 "nbformat": 4,
 "nbformat_minor": 2
}
